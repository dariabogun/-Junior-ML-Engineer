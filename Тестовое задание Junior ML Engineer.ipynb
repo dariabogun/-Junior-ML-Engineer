{
 "cells": [
  {
   "cell_type": "markdown",
   "metadata": {},
   "source": [
    "## 1. Написать функцию на Python\n",
    "\n",
    "Напиши функцию, которая удалит дубликаты в списке. Список не отсортирован. Необходимо сохранить порядок сортировки оригинального списка.\n",
    "\n",
    "Примеры:\n",
    "* [1, 2, 3, 1] → [1, 2, 3]\n",
    "* [1, 3, 2, 1, 5, 3, 5, 1, 4] → [1, 3, 2, 5, 4]\n"
   ]
  },
  {
   "cell_type": "code",
   "execution_count": 8,
   "metadata": {},
   "outputs": [
    {
     "name": "stdout",
     "output_type": "stream",
     "text": [
      "1 2 3 1\n",
      "1 2 3\n"
     ]
    }
   ],
   "source": [
    "# программа с вводом элементов массива через пробел\n",
    "lst = input().split()\n",
    "new=[]\n",
    "for i in lst: # выполняется len(lst) раз\n",
    "    if i not in new:\n",
    "        new.append(i)\n",
    "print(' '.join(map(str, new)))"
   ]
  },
  {
   "cell_type": "code",
   "execution_count": 11,
   "metadata": {},
   "outputs": [
    {
     "name": "stdout",
     "output_type": "stream",
     "text": [
      "[1, 3, 2, 5, 4]\n"
     ]
    }
   ],
   "source": [
    "# программа с константным массивом lst\n",
    "lst = [1, 3, 2, 1, 5, 3, 5, 1, 4]\n",
    "new=[]\n",
    "for i in lst: # выполняется len(lst) раз\n",
    "    if i not in new:\n",
    "        new.append(i)\n",
    "print(new)"
   ]
  },
  {
   "cell_type": "markdown",
   "metadata": {},
   "source": [
    "##### Какая асимптотическая сложность у этой функций?\n",
    "\n",
    "Эта процедура выполняется N (N=len(lst)) раз, таким образом, вычислительная сложность этого алгоритма равна O(N^2).\n",
    "\n",
    "Ниже покажем, как количество итераций (элементов в массиве) влияют на время выполнения функции."
   ]
  },
  {
   "cell_type": "code",
   "execution_count": 82,
   "metadata": {},
   "outputs": [],
   "source": [
    "# создание рандомного массива\n",
    "import numpy as np\n",
    "import random\n",
    "a = np.random.choice(100, size=(500)) # количество жлементов массива указывается в size\n",
    "#print(a)"
   ]
  },
  {
   "cell_type": "code",
   "execution_count": 83,
   "metadata": {},
   "outputs": [
    {
     "name": "stdout",
     "output_type": "stream",
     "text": [
      "[6, 70, 71, 39, 85, 64, 53, 48, 0, 45, 75, 17, 84, 62, 50, 2, 15, 95, 83, 44, 51, 99, 4, 65, 97, 87, 3, 60, 22, 29, 86, 46, 92, 24, 25, 23, 52, 43, 33, 12, 27, 73, 79, 91, 10, 58, 67, 76, 69, 94, 74, 14, 35, 59, 41, 13, 37, 38, 31, 8, 57, 26, 11, 21, 1, 47, 34, 77, 36, 20, 98, 19, 18, 28, 42, 96, 9, 63, 30, 82, 5, 61, 16, 81, 72, 68, 54, 90, 93, 80, 78, 49, 88, 40, 66, 56, 7, 89, 55, 32]\n",
      "--- 0.0019919872283935547 seconds ---\n"
     ]
    }
   ],
   "source": [
    "import time\n",
    "start_time = time.time()\n",
    "def main(a):\n",
    "    new=[]\n",
    "    for i in a: # выполняется len(lst) раз; O(N)\n",
    "        if i not in new: # O(N) - срез + in\n",
    "            new.append(i)\n",
    "    return new\n",
    "# print(' '.join(map(str, new)))\n",
    "print(main(a))\n",
    "print(\"--- %s seconds ---\" % (time.time() - start_time))"
   ]
  },
  {
   "cell_type": "markdown",
   "metadata": {},
   "source": [
    "### количетво элементов массива - время выполнения функции \n",
    "                                  1 - 0.0009975433349609375\n",
    "\n",
    "                                 10 - 0.0009682178497314453\n",
    "\n",
    "                                 50 - 0.0009970664978027344\n",
    "\n",
    "                                100 - 0.0009958744049072266 \n",
    "\n",
    "                                200 - 0.0019948482513427734\n",
    "\n",
    "                                500 - 0.0019919872283935547\n",
    "\n",
    "                               1000 - 0.001995086669921875\n",
    "\n",
    "                               1500 - 0.0039844512939453125\n",
    "\n",
    "                               2000 - 0.004983425140380859"
   ]
  },
  {
   "cell_type": "code",
   "execution_count": 91,
   "metadata": {},
   "outputs": [
    {
     "data": {
      "image/png": "[encoded data removed]",
      "text/plain": [
       "<Figure size 432x288 with 1 Axes>"
      ]
     },
     "metadata": {
      "needs_background": "light"
     },
     "output_type": "display_data"
    }
   ],
   "source": [
    "import math\n",
    "import pylab\n",
    "from matplotlib import mlab\n",
    "\n",
    "xmin = 0\n",
    "xmax = 0.5\n",
    "\n",
    "# Шаг между точками\n",
    "dx = 0.001\n",
    "\n",
    "xlist = [0.0009975433349609375,0.0009682178497314453,0.0009970664978027344,0.0009958744049072266,0.0019948482513427734,0.0019919872283935547,0.001995086669921875,0.0039844512939453125,0.004983425140380859]\n",
    "ylist = [1,10,50,100,200,500,1000,1500,2000]\n",
    "\n",
    "pylab.plot (xlist, ylist)\n",
    "\n",
    "# !!! Покажем окно с нарисованным графиком\n",
    "pylab.show()"
   ]
  },
  {
   "cell_type": "markdown",
   "metadata": {},
   "source": [
    "На графике заметим, что чем больше итераций, тем дольше выполняется функция."
   ]
  },
  {
   "cell_type": "markdown",
   "metadata": {},
   "source": [
    "Если задание покажется слишком простым, можешь дополнительно написать юнит тест или **doctest**:"
   ]
  },
  {
   "cell_type": "code",
   "execution_count": 1,
   "metadata": {},
   "outputs": [
    {
     "name": "stdout",
     "output_type": "stream",
     "text": [
      "Trying:\n",
      "    db([1])\n",
      "Expecting:\n",
      "    [1]\n",
      "ok\n",
      "Trying:\n",
      "    db([1, 1, 2])\n",
      "Expecting:\n",
      "    [1, 2]\n",
      "ok\n",
      "Trying:\n",
      "    db([1, 2, 3, 1])\n",
      "Expecting:\n",
      "    [1, 2, 3]\n",
      "ok\n",
      "Trying:\n",
      "    db([1, 3, 2, 1, 5, 3, 5, 1, 4])\n",
      "Expecting:\n",
      "    [1, 3, 2, 5, 4]\n",
      "ok\n",
      "1 items had no tests:\n",
      "    __main__\n",
      "1 items passed all tests:\n",
      "   4 tests in __main__.db\n",
      "4 tests in 2 items.\n",
      "4 passed and 0 failed.\n",
      "Test passed.\n"
     ]
    }
   ],
   "source": [
    "def db(a):\n",
    "    \"\"\" \n",
    "    Примеры тестов:\n",
    "    \n",
    "    >>> db([1])\n",
    "    [1]\n",
    "    >>> db([1, 1, 2])\n",
    "    [1, 2]\n",
    "    >>> db([1, 2, 3, 1])\n",
    "    [1, 2, 3]\n",
    "    >>> db([1, 3, 2, 1, 5, 3, 5, 1, 4])\n",
    "    [1, 3, 2, 5, 4]\n",
    "    \n",
    "    \"\"\"\n",
    "    \n",
    "    new=[]\n",
    "    for i in a: \n",
    "        if i not in new: \n",
    "            new.append(i)\n",
    "    return new\n",
    "\n",
    "\n",
    "if __name__ == \"__main__\":\n",
    "    import doctest\n",
    "    doctest.testmod(verbose=True)"
   ]
  },
  {
   "cell_type": "markdown",
   "metadata": {},
   "source": [
    "## 2. Написать SQL запрос\n",
    "\n",
    "Дана таблица employees всех сотрудников компании. Поля:\n",
    "* full_name TEXT (PK),\n",
    "* position TEXT,\n",
    "* department TEXT.\n",
    "\n",
    "Напиши запрос, выводящий все отделы, в которых меньше 5 разработчиков (position = 'Software Developer').\n",
    "\n",
    "##### Ответ:"
   ]
  },
  {
   "cell_type": "markdown",
   "metadata": {},
   "source": [
    "_______________________________________\n",
    "\n",
    "\n",
    "SELECT department\n",
    "\n",
    "FROM employees\n",
    "\n",
    "WHERE position = 'Software Developer' \n",
    "\n",
    "GROUP  BY department\n",
    "\n",
    "HAVING COUNT(*) < 5\n",
    "\n",
    "\n",
    "_______________________________________"
   ]
  },
  {
   "cell_type": "markdown",
   "metadata": {},
   "source": [
    "*При выполнении задания использовался MySQL 5.6*"
   ]
  },
  {
   "cell_type": "markdown",
   "metadata": {},
   "source": [
    "## 3. Решить задачу\n",
    "\n",
    "Подкинули монету N раз. Кол-во случаев, когда выпал орёл, на 10% больше, чем кол-во случаев, когда выпала решка. При каком N мы можем сказать, что монета «нечестная» (орёл и решка выпадают с разной вероятностью)?\n",
    "\n",
    "##### Ответ:\n"
   ]
  },
  {
   "cell_type": "markdown",
   "metadata": {},
   "source": [
    "Количество бросков **не может влиять на вероятность случаев**, но давайте предположим, что N раз подряд мы получаем орла (или решку). И рассчитаем, на каком N можно считать, что монета \"нечестная\":\n",
    "\n",
    "Следует учесть возможность того, что монета нечестная, т. е. вероятность однократного выпадения орла выше 0,5 на 10%, т.е. равна 0,5+0,05=0,55. По условию нулевой гипотезы (что монета честная и вероятность одного из двух результатов подбрасывания должна быть равна 50% (р = 0,5)) вероятность получить N орлов подряд = 1/2^N.\n",
    "\n",
    "Для нахождения N нам требуется отвергнуть нулевую гипотезу, следовательно вероятность получить N орлов подряд должно быть меньше общепризнанного порога значимости 0,05. Решим неравенство:\n",
    "\n",
    "1/2^N < 0,05\n",
    "\n",
    "2^(-N) < 0,05\n",
    "\n",
    "2^N > 20\n",
    "\n",
    "Отсюда следует, что минимальное значение для того, чтобы отвергнуть нулевую гипотезу равно 5, т.е. N >= 5.\n",
    "Только при выпадении орла или решки более **5 раз подрят**, мы можем сказать, что монета \"нечестная\"."
   ]
  }
 ],
 "metadata": {
  "kernelspec": {
   "display_name": "Python 3",
   "language": "python",
   "name": "python3"
  },
  "language_info": {
   "codemirror_mode": {
    "name": "ipython",
    "version": 3
   },
   "file_extension": ".py",
   "mimetype": "text/x-python",
   "name": "python",
   "nbconvert_exporter": "python",
   "pygments_lexer": "ipython3",
   "version": "3.8.3"
  }
 },
 "nbformat": 4,
 "nbformat_minor": 4
}
